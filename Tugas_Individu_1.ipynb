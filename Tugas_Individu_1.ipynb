{
 "cells": [
  {
   "cell_type": "code",
   "execution_count": 36,
   "id": "ce490a1f",
   "metadata": {},
   "outputs": [],
   "source": [
    "import cv2\n",
    "import face_recognition"
   ]
  },
  {
   "cell_type": "code",
   "execution_count": 37,
   "id": "55fca920",
   "metadata": {},
   "outputs": [],
   "source": [
    "original_image = cv2.imread('images/testing/jk.jpeg')"
   ]
  },
  {
   "cell_type": "code",
   "execution_count": 38,
   "id": "2ca9103c",
   "metadata": {},
   "outputs": [],
   "source": [
    "jokowi_image = face_recognition.load_image_file('images/samples/jokowi.jpg')\n",
    "jokowi_face_encodings = face_recognition.face_encodings(jokowi_image)[0]"
   ]
  },
  {
   "cell_type": "code",
   "execution_count": 39,
   "id": "839021cb",
   "metadata": {},
   "outputs": [],
   "source": [
    "elon_image = face_recognition.load_image_file('images/samples/elon.jpg')\n",
    "elon_face_encodings = face_recognition.face_encodings(elon_image)[0]"
   ]
  },
  {
   "cell_type": "code",
   "execution_count": 40,
   "id": "77431328",
   "metadata": {},
   "outputs": [],
   "source": [
    "known_face_encodings = [jokowi_face_encodings, elon_face_encodings]\n",
    "known_face_names = [\"Jokowi Presiden Indonesia\", \"Elon Musk\"]"
   ]
  },
  {
   "cell_type": "code",
   "execution_count": 41,
   "id": "0e9a8ce1",
   "metadata": {},
   "outputs": [],
   "source": [
    "image_to_recognize = face_recognition.load_image_file('images/testing/jk.jpeg')"
   ]
  },
  {
   "cell_type": "code",
   "execution_count": 42,
   "id": "02b04413",
   "metadata": {},
   "outputs": [],
   "source": [
    "all_face_locations = face_recognition.face_locations(image_to_recognize,model='hog')\n",
    "all_face_encodings = face_recognition.face_encodings(image_to_recognize,all_face_locations)"
   ]
  },
  {
   "cell_type": "code",
   "execution_count": 43,
   "id": "ff741562",
   "metadata": {},
   "outputs": [
    {
     "name": "stdout",
     "output_type": "stream",
     "text": [
      "There are 2 no of faces in this image\n"
     ]
    }
   ],
   "source": [
    "print('There are {} no of faces in this image'.format(len(all_face_locations)))"
   ]
  },
  {
   "cell_type": "code",
   "execution_count": 44,
   "id": "790bba4d",
   "metadata": {},
   "outputs": [],
   "source": [
    "for current_face_location,current_face_encoding in zip(all_face_locations,all_face_encodings):\n",
    "    #splitting the tuple to get the four position values of current face\n",
    "    top_pos,right_pos,bottom_pos,left_pos = current_face_location\n",
    "    \n",
    "    \n",
    "    #find all the matches and get the list of matches\n",
    "    all_matches = face_recognition.compare_faces(known_face_encodings, current_face_encoding)\n",
    "   \n",
    "    #string to hold the label\n",
    "    name_of_person = 'Unknown face'\n",
    "    \n",
    "    #check if the all_matches have at least one item\n",
    "    #if yes, get the index number of face that is located in the first index of all_matches\n",
    "    #get the name corresponding to the index number and save it in name_of_person\n",
    "    if True in all_matches:\n",
    "        first_match_index = all_matches.index(True)\n",
    "        name_of_person = known_face_names[first_match_index]"
   ]
  },
  {
   "cell_type": "code",
   "execution_count": 45,
   "id": "d89759e6",
   "metadata": {},
   "outputs": [
    {
     "data": {
      "text/plain": [
       "-1"
      ]
     },
     "execution_count": 45,
     "metadata": {},
     "output_type": "execute_result"
    }
   ],
   "source": [
    "cv2.rectangle(original_image,(left_pos,top_pos),(right_pos,bottom_pos),(255,0,0),2)    \n",
    "    #display the name as text in the image\n",
    "font = cv2.FONT_HERSHEY_DUPLEX\n",
    "cv2.putText(original_image, name_of_person, (left_pos,bottom_pos), font, 0.5, (255,255,255),1)\n",
    "cv2.imshow(\"Faces Identified\",original_image)\n",
    "cv2.waitKey(0); cv2.destroyAllWindows(); cv2.waitKey(1)"
   ]
  },
  {
   "cell_type": "code",
   "execution_count": null,
   "id": "16d30a3d",
   "metadata": {},
   "outputs": [],
   "source": []
  }
 ],
 "metadata": {
  "kernelspec": {
   "display_name": "Python 3 (ipykernel)",
   "language": "python",
   "name": "python3"
  },
  "language_info": {
   "codemirror_mode": {
    "name": "ipython",
    "version": 3
   },
   "file_extension": ".py",
   "mimetype": "text/x-python",
   "name": "python",
   "nbconvert_exporter": "python",
   "pygments_lexer": "ipython3",
   "version": "3.9.7"
  }
 },
 "nbformat": 4,
 "nbformat_minor": 5
}
