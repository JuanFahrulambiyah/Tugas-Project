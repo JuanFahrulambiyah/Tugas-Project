{
 "cells": [
  {
   "cell_type": "code",
   "execution_count": 1,
   "id": "79e158c0",
   "metadata": {},
   "outputs": [],
   "source": [
    "import cv2\n",
    "import face_recognition"
   ]
  },
  {
   "cell_type": "code",
   "execution_count": 2,
   "id": "dc1be167",
   "metadata": {},
   "outputs": [],
   "source": [
    "file_video_stream = cv2.VideoCapture('images/testing/video.mp4')"
   ]
  },
  {
   "cell_type": "code",
   "execution_count": 3,
   "id": "947ee3b2",
   "metadata": {},
   "outputs": [],
   "source": [
    "jokowi_image = face_recognition.load_image_file('images/samples/jokowi.jpg')\n",
    "jokowi_face_encodings = face_recognition.face_encodings(jokowi_image)[0]"
   ]
  },
  {
   "cell_type": "code",
   "execution_count": 4,
   "id": "9a2b9431",
   "metadata": {},
   "outputs": [],
   "source": [
    "elon_image = face_recognition.load_image_file('images/samples/elon.jpg')\n",
    "elon_face_encodings = face_recognition.face_encodings(elon_image)[0]"
   ]
  },
  {
   "cell_type": "code",
   "execution_count": 5,
   "id": "30a855c4",
   "metadata": {},
   "outputs": [],
   "source": [
    "known_face_encodings = [jokowi_face_encodings, elon_face_encodings]\n",
    "known_face_names = [\"Jokowi dodo\", \"Elon Musk\"]"
   ]
  },
  {
   "cell_type": "code",
   "execution_count": null,
   "id": "c86352f5",
   "metadata": {},
   "outputs": [],
   "source": [
    "all_face_locations = []\n",
    "all_face_encodings = []\n",
    "all_face_names = []\n",
    "\n",
    "#loop through every frame in the video\n",
    "while (file_video_stream.isOpened):\n",
    "    #get the current frame from the video stream as an image\n",
    "    ret,current_frame = file_video_stream.read()\n",
    "    #resize the current frame to 1/4 size to proces faster\n",
    "    current_frame_small = cv2.resize(current_frame,(0,0),fx=0.25,fy=0.25)\n",
    "    #detect all faces in the image\n",
    "    #arguments are image,no_of_times_to_upsample, model\n",
    "    all_face_locations = face_recognition.face_locations(current_frame_small,number_of_times_to_upsample=1,model='hog')\n",
    "    \n",
    "    #detect face encodings for all the faces detected\n",
    "    all_face_encodings = face_recognition.face_encodings(current_frame_small,all_face_locations)\n",
    "\n",
    "\n",
    "    #looping through the face locations and the face embeddings\n",
    "    for current_face_location,current_face_encoding in zip(all_face_locations,all_face_encodings):\n",
    "        #splitting the tuple to get the four position values of current face\n",
    "        top_pos,right_pos,bottom_pos,left_pos = current_face_location\n",
    "        \n",
    "        #change the position maginitude to fit the actual size video frame\n",
    "        top_pos = top_pos*4\n",
    "        right_pos = right_pos*4\n",
    "        bottom_pos = bottom_pos*4\n",
    "        left_pos = left_pos*4\n",
    "        \n",
    "        #find all the matches and get the list of matches\n",
    "        all_matches = face_recognition.compare_faces(known_face_encodings, current_face_encoding)\n",
    "       \n",
    "        #string to hold the label\n",
    "        name_of_person = 'Unknown face'\n",
    "        \n",
    "        #check if the all_matches have at least one item\n",
    "        #if yes, get the index number of face that is located in the first index of all_matches\n",
    "        #get the name corresponding to the index number and save it in name_of_person\n",
    "        if True in all_matches:\n",
    "            first_match_index = all_matches.index(True)\n",
    "            name_of_person = known_face_names[first_match_index]"
   ]
  },
  {
   "cell_type": "code",
   "execution_count": null,
   "id": "601a8011",
   "metadata": {},
   "outputs": [],
   "source": [
    "cv2.rectangle(current_frame,(left_pos,top_pos),(right_pos,bottom_pos),(255,0,0),2)"
   ]
  },
  {
   "cell_type": "code",
   "execution_count": null,
   "id": "18ac7135",
   "metadata": {},
   "outputs": [],
   "source": [
    "font = cv2.FONT_HERSHEY_DUPLEX\n",
    "cv2.putText(current_frame, name_of_person, (left_pos,bottom_pos), font, 0.5, (255,255,255),1)"
   ]
  },
  {
   "cell_type": "code",
   "execution_count": null,
   "id": "0dc1bb4c",
   "metadata": {},
   "outputs": [],
   "source": [
    "cv2.imshow(\"Webcam Video\",current_frame)\n",
    "    \n",
    "if cv2.waitKey(1) & 0xFF == ord('q'):\n",
    "break\n",
    "\n",
    "#release the stream and cam\n",
    "#close all opencv windows open\n",
    "file_video_stream.release()\n",
    "cv2.destroyAllWindows() "
   ]
  }
 ],
 "metadata": {
  "kernelspec": {
   "display_name": "Python 3 (ipykernel)",
   "language": "python",
   "name": "python3"
  },
  "language_info": {
   "codemirror_mode": {
    "name": "ipython",
    "version": 3
   },
   "file_extension": ".py",
   "mimetype": "text/x-python",
   "name": "python",
   "nbconvert_exporter": "python",
   "pygments_lexer": "ipython3",
   "version": "3.9.7"
  }
 },
 "nbformat": 4,
 "nbformat_minor": 5
}
